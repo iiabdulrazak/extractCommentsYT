{
 "cells": [
  {
   "cell_type": "code",
   "execution_count": 2,
   "id": "complimentary-absolute",
   "metadata": {},
   "outputs": [
    {
     "output_type": "stream",
     "name": "stdout",
     "text": [
      "Requirement already satisfied: pandas in /home/pinocchio/.local/lib/python3.8/site-packages (1.2.3)\n",
      "Requirement already satisfied: matplotlib in /home/pinocchio/.local/lib/python3.8/site-packages (3.3.4)\n",
      "Requirement already satisfied: pytz>=2017.3 in /usr/lib/python3/dist-packages (from pandas) (2019.3)\n",
      "Requirement already satisfied: numpy>=1.16.5 in /home/pinocchio/.local/lib/python3.8/site-packages (from pandas) (1.20.1)\n",
      "Requirement already satisfied: python-dateutil>=2.7.3 in /usr/lib/python3/dist-packages (from pandas) (2.7.3)\n",
      "Requirement already satisfied: pillow>=6.2.0 in /usr/lib/python3/dist-packages (from matplotlib) (7.0.0)\n",
      "Requirement already satisfied: cycler>=0.10 in /home/pinocchio/.local/lib/python3.8/site-packages (from matplotlib) (0.10.0)\n",
      "Requirement already satisfied: pyparsing!=2.0.4,!=2.1.2,!=2.1.6,>=2.0.3 in /home/pinocchio/.local/lib/python3.8/site-packages (from matplotlib) (2.4.7)\n",
      "Requirement already satisfied: kiwisolver>=1.0.1 in /home/pinocchio/.local/lib/python3.8/site-packages (from matplotlib) (1.3.1)\n",
      "Requirement already satisfied: six in /usr/lib/python3/dist-packages (from cycler>=0.10->matplotlib) (1.14.0)\n"
     ]
    }
   ],
   "source": [
    "!pip3 install pandas matplotlib"
   ]
  },
  {
   "cell_type": "code",
   "execution_count": 3,
   "metadata": {},
   "outputs": [],
   "source": [
    "try:\n",
    "    import pandas as pd\n",
    "    import matplotlib.pyplot as plt\n",
    "    from matplotlib import style\n",
    "    style.use('ggplot')\n",
    "\n",
    "except Exception as e:\n",
    "    print(f'Error while importing packages! \\n{e}')"
   ]
  },
  {
   "cell_type": "code",
   "execution_count": 5,
   "id": "compatible-healing",
   "metadata": {},
   "outputs": [
    {
     "output_type": "execute_result",
     "data": {
      "text/plain": [
       "                                                         comment  \\\n",
       "name                                                               \n",
       "melodysheep    This one&#39;s a trip!!  Enjoy the video my fr...   \n",
       "Radhiya Irgi   No ones gonna talk about the 69 secret message...   \n",
       "Don't mind Me                            Solution:Sleep everyday   \n",
       "ImHolySpectre  Bu adamların videolarına bayılıyorum...TR<br /...   \n",
       "Hung 'Un       Shit i was reading the comments and forgot to ...   \n",
       "\n",
       "                               date  like  reply  \n",
       "name                                              \n",
       "melodysheep    2021-02-09T17:22:02Z  4656    500  \n",
       "Radhiya Irgi   2021-03-09T13:12:17Z     0      1  \n",
       "Don't mind Me  2021-03-09T11:51:56Z     0      0  \n",
       "ImHolySpectre  2021-03-09T09:56:48Z     0      0  \n",
       "Hung 'Un       2021-03-09T07:32:04Z     0      0  "
      ],
      "text/html": "<div>\n<style scoped>\n    .dataframe tbody tr th:only-of-type {\n        vertical-align: middle;\n    }\n\n    .dataframe tbody tr th {\n        vertical-align: top;\n    }\n\n    .dataframe thead th {\n        text-align: right;\n    }\n</style>\n<table border=\"1\" class=\"dataframe\">\n  <thead>\n    <tr style=\"text-align: right;\">\n      <th></th>\n      <th>comment</th>\n      <th>date</th>\n      <th>like</th>\n      <th>reply</th>\n    </tr>\n    <tr>\n      <th>name</th>\n      <th></th>\n      <th></th>\n      <th></th>\n      <th></th>\n    </tr>\n  </thead>\n  <tbody>\n    <tr>\n      <th>melodysheep</th>\n      <td>This one&amp;#39;s a trip!!  Enjoy the video my fr...</td>\n      <td>2021-02-09T17:22:02Z</td>\n      <td>4656</td>\n      <td>500</td>\n    </tr>\n    <tr>\n      <th>Radhiya Irgi</th>\n      <td>No ones gonna talk about the 69 secret message...</td>\n      <td>2021-03-09T13:12:17Z</td>\n      <td>0</td>\n      <td>1</td>\n    </tr>\n    <tr>\n      <th>Don't mind Me</th>\n      <td>Solution:Sleep everyday</td>\n      <td>2021-03-09T11:51:56Z</td>\n      <td>0</td>\n      <td>0</td>\n    </tr>\n    <tr>\n      <th>ImHolySpectre</th>\n      <td>Bu adamların videolarına bayılıyorum...TR&lt;br /...</td>\n      <td>2021-03-09T09:56:48Z</td>\n      <td>0</td>\n      <td>0</td>\n    </tr>\n    <tr>\n      <th>Hung 'Un</th>\n      <td>Shit i was reading the comments and forgot to ...</td>\n      <td>2021-03-09T07:32:04Z</td>\n      <td>0</td>\n      <td>0</td>\n    </tr>\n  </tbody>\n</table>\n</div>"
     },
     "metadata": {},
     "execution_count": 5
    }
   ],
   "source": [
    "data = pd.read_csv('./data/extractComments.csv')\n",
    "data.rename(columns={'Name':'name', 'Comment':'comment', 'Time':'date', 'Likes':'like', 'Reply Count':'reply'}, inplace=True)\n",
    "data.set_index('name', inplace=True)\n",
    "\n",
    "data.head()"
   ]
  },
  {
   "cell_type": "code",
   "execution_count": 7,
   "id": "modified-florence",
   "metadata": {},
   "outputs": [
    {
     "output_type": "execute_result",
     "data": {
      "text/plain": [
       "comment    👁️It&#39;s faster than the blink of an eye, it...\n",
       "date                                    2021-03-07T10:12:52Z\n",
       "like                                                       1\n",
       "reply                                                      0\n",
       "Name: Mosab Hamaida, dtype: object"
      ]
     },
     "metadata": {},
     "execution_count": 7
    }
   ],
   "source": [
    "data.loc['Mosab Hamaida']"
   ]
  },
  {
   "cell_type": "code",
   "execution_count": 9,
   "id": "portable-repeat",
   "metadata": {},
   "outputs": [
    {
     "output_type": "stream",
     "name": "stdout",
     "text": [
      "Mosab Hamaida Comment: \n\n<br />{بَدِيعُ السَّمَاوَاتِ وَالْأَرْضِ ۖ وَإِذَا قَضَىٰ أَمْرًا فَإِنَّمَا يَقُولُ لَهُ كُن فَيَكُونُ} The translation:<br />{Originator of the heavens and the earth. When He decrees a matter, He only says to it, &quot;Be,&quot; and it is} [2:117].\n"
     ]
    }
   ],
   "source": [
    "comment = data['comment'].loc['Mosab Hamaida']\n",
    "print(f'Mosab Hamaida Comment: \\n\\n{comment}')"
   ]
  },
  {
   "cell_type": "code",
   "execution_count": 10,
   "id": "spiritual-vector",
   "metadata": {},
   "outputs": [],
   "source": [
    "with open('./data/extractedComment.txt', 'w') as file:\n",
    "    file.write(comment)"
   ]
  },
  {
   "cell_type": "code",
   "execution_count": null,
   "metadata": {},
   "outputs": [],
   "source": []
  }
 ],
 "metadata": {
  "kernelspec": {
   "name": "python3",
   "display_name": "Python 3.8.5 64-bit",
   "metadata": {
    "interpreter": {
     "hash": "31f2aee4e71d21fbe5cf8b01ff0e069b9275f58929596ceb00d14d90e3e16cd6"
    }
   }
  },
  "language_info": {
   "codemirror_mode": {
    "name": "ipython",
    "version": 3
   },
   "file_extension": ".py",
   "mimetype": "text/x-python",
   "name": "python",
   "nbconvert_exporter": "python",
   "pygments_lexer": "ipython3",
   "version": "3.8.5-final"
  }
 },
 "nbformat": 4,
 "nbformat_minor": 5
}